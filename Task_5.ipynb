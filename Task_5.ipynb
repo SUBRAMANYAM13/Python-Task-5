{
  "nbformat": 4,
  "nbformat_minor": 0,
  "metadata": {
    "colab": {
      "name": "Task 5.ipynb",
      "provenance": [],
      "collapsed_sections": []
    },
    "kernelspec": {
      "name": "python3",
      "display_name": "Python 3"
    },
    "language_info": {
      "name": "python"
    }
  },
  "cells": [
    {
      "cell_type": "code",
      "execution_count": 1,
      "metadata": {
        "id": "-VhNmozDNEee"
      },
      "outputs": [],
      "source": [
        "import pandas as pd\n",
        "import numpy as np\n",
        "import matplotlib.pyplot as plt\n",
        "import seaborn as sns\n",
        "% matplotlib inline\n",
        "\n",
        "import warnings\n",
        "warnings.filterwarnings('ignore')"
      ]
    },
    {
      "cell_type": "code",
      "source": [
        "users = pd.read_csv('/content/takehome_users.csv', encoding='latin')\n",
        "pd.options.display.float_format = '{:.1f}'.format"
      ],
      "metadata": {
        "id": "RlVxa7scNlPG"
      },
      "execution_count": 3,
      "outputs": []
    },
    {
      "cell_type": "code",
      "source": [
        "users.info()"
      ],
      "metadata": {
        "id": "mg6-opedNy6V"
      },
      "execution_count": null,
      "outputs": []
    },
    {
      "cell_type": "code",
      "source": [
        "users.describe()"
      ],
      "metadata": {
        "id": "bvaWO7X1N1mJ"
      },
      "execution_count": null,
      "outputs": []
    },
    {
      "cell_type": "code",
      "source": [
        "users.head()"
      ],
      "metadata": {
        "id": "6RJRsox4OHH3"
      },
      "execution_count": null,
      "outputs": []
    },
    {
      "cell_type": "code",
      "source": [
        "engagement = pd.read_csv('/content/takehome_user_engagement.csv')\n",
        "engagement.head()"
      ],
      "metadata": {
        "id": "fpPVoe5bOI9s"
      },
      "execution_count": null,
      "outputs": []
    },
    {
      "cell_type": "code",
      "source": [
        "engagement.info()"
      ],
      "metadata": {
        "id": "Dqmem4ZMOoHu"
      },
      "execution_count": null,
      "outputs": []
    },
    {
      "cell_type": "code",
      "source": [
        "sorted(list(engagement['visited'].unique()))"
      ],
      "metadata": {
        "colab": {
          "base_uri": "https://localhost:8080/"
        },
        "id": "owk_JGzoOuFS",
        "outputId": "015605f5-9df1-46f5-ea92-6f6bbf0ab5fa"
      },
      "execution_count": 9,
      "outputs": [
        {
          "output_type": "execute_result",
          "data": {
            "text/plain": [
              "[1]"
            ]
          },
          "metadata": {},
          "execution_count": 9
        }
      ]
    },
    {
      "cell_type": "code",
      "source": [
        "print('There are {} unique users of the 207,917 entries in engagement data'\\\n",
        "      .format(len(engagement['user_id'].unique())))"
      ],
      "metadata": {
        "id": "VR5QoQjpOyCy"
      },
      "execution_count": null,
      "outputs": []
    },
    {
      "cell_type": "code",
      "source": [
        "three_logins = engagement.groupby('user_id').filter(lambda x: len(x) >=3)\n",
        "print('There are {} unique users who logged in 3 times or more in total'\\\n",
        "      .format(len(three_logins['user_id'].unique())))\n",
        "\n",
        "three_logins.head(2)"
      ],
      "metadata": {
        "id": "L-atJuR6O1Jw"
      },
      "execution_count": null,
      "outputs": []
    },
    {
      "cell_type": "code",
      "source": [
        "three_logins.reset_index(drop=True, inplace = True)\n",
        "\n",
        "adopted = 0\n",
        "adopted_users = []\n",
        "for i in range(len(three_logins)-2):\n",
        "    user = three_logins['user_id'][i]\n",
        "    if user != adopted and user == three_logins['user_id'][i+2]:\n",
        "    \n",
        "        sd = pd.Timestamp(three_logins['time_stamp'][i])\n",
        "        ed = sd + pd.Timedelta('7D')\n",
        "        if sd < pd.Timestamp(three_logins['time_stamp'][i+1]) < ed and sd < \\\n",
        "        pd.Timestamp(three_logins['time_stamp'][i+2]) < ed:\n",
        "            adopted_users.append(user)\n",
        "            adopted = user"
      ],
      "metadata": {
        "id": "lOcZ7qfHO8Rw"
      },
      "execution_count": 11,
      "outputs": []
    },
    {
      "cell_type": "code",
      "source": [
        "len(adopted_users)"
      ],
      "metadata": {
        "id": "IfQPuwS9PIjQ"
      },
      "execution_count": null,
      "outputs": []
    },
    {
      "cell_type": "code",
      "source": [
        "y = pd.Series(np.random.randn(len(users)))\n",
        "n = 0\n",
        "for i in range(len(users)):\n",
        "    if users['object_id'][i] == adopted_users[n]:\n",
        "        y[i] = 1\n",
        "        n = n+1\n",
        "        if n > len(adopted_users)-1:\n",
        "            n = n -1\n",
        "    else:\n",
        "        y[i] = 0\n",
        "        \n",
        "users2 = pd.DataFrame(y, columns = ['adopted_users'])\n",
        "df = pd.concat([users, users2], axis=1)\n",
        "print((df[df['adopted_users'] == 1]).count())"
      ],
      "metadata": {
        "id": "aeYaUovvPLgr"
      },
      "execution_count": null,
      "outputs": []
    },
    {
      "cell_type": "code",
      "source": [
        "inv = pd.Series(np.random.randn(len(df)))\n",
        "for i in range(len(df)):\n",
        "    if df['invited_by_user_id'][i] >=1:\n",
        "        inv[i] = 1\n",
        "    else:\n",
        "        inv[i] = 0\n",
        "df2 = pd.DataFrame(inv, columns = ['invited'])\n",
        "df3 = pd.concat([df,df2], axis = 1)"
      ],
      "metadata": {
        "id": "x8fdeQ5aPPtk"
      },
      "execution_count": 13,
      "outputs": []
    },
    {
      "cell_type": "code",
      "source": [
        "df.head(2)"
      ],
      "metadata": {
        "id": "N1DzL6R2PSTD"
      },
      "execution_count": null,
      "outputs": []
    },
    {
      "cell_type": "code",
      "source": [
        "df3.head(2)"
      ],
      "metadata": {
        "id": "k0r5iE7OPUM-"
      },
      "execution_count": null,
      "outputs": []
    },
    {
      "cell_type": "code",
      "source": [
        "df3['creation_source'].value_counts()"
      ],
      "metadata": {
        "id": "Y6so4VtEPWl6"
      },
      "execution_count": null,
      "outputs": []
    },
    {
      "cell_type": "code",
      "source": [
        "from sklearn import preprocessing\n",
        "le = preprocessing.LabelEncoder()\n",
        "le.fit(['ORG_INVITE','GUEST_INVITE','PERSONAL_PROJECTS','SIGNUP','SIGNUP_GOOGLE_AUTH'])"
      ],
      "metadata": {
        "id": "WEmZcUA4PaJE"
      },
      "execution_count": null,
      "outputs": []
    },
    {
      "cell_type": "code",
      "source": [
        "creation = le.transform(df['creation_source'])"
      ],
      "metadata": {
        "id": "JffEU9b5PcjG"
      },
      "execution_count": 18,
      "outputs": []
    },
    {
      "cell_type": "code",
      "source": [
        "df4 = pd.DataFrame(creation, columns = ['creation'])\n",
        "df = pd.concat([df3 ,df4], axis=1)\n",
        "df.head(10)"
      ],
      "metadata": {
        "id": "uzOc2iu3PedS"
      },
      "execution_count": null,
      "outputs": []
    },
    {
      "cell_type": "code",
      "source": [
        "from xgboost import XGBClassifier\n",
        "from sklearn.model_selection import train_test_split\n",
        "from sklearn.metrics import accuracy_score\n",
        "y = df['adopted_users']\n",
        "X = df[['creation','last_session_creation_time','opted_in_to_mailing_list','enabled_for_marketing_drip','org_id']]\n",
        "seed = 7\n",
        "test_size = 0.33\n",
        "X_train, X_test, y_train, y_test = train_test_split(X, y, test_size=test_size, random_state=seed)"
      ],
      "metadata": {
        "id": "crSO7cPJPh1G"
      },
      "execution_count": 20,
      "outputs": []
    },
    {
      "cell_type": "code",
      "source": [
        "model = XGBClassifier()\n",
        "model.fit(X_train, y_train)"
      ],
      "metadata": {
        "colab": {
          "base_uri": "https://localhost:8080/"
        },
        "id": "LCt13ADCPt44",
        "outputId": "9256fffa-523a-434a-ede9-11f15048132b"
      },
      "execution_count": 21,
      "outputs": [
        {
          "output_type": "execute_result",
          "data": {
            "text/plain": [
              "XGBClassifier()"
            ]
          },
          "metadata": {},
          "execution_count": 21
        }
      ]
    },
    {
      "cell_type": "code",
      "source": [
        "X.columns"
      ],
      "metadata": {
        "colab": {
          "base_uri": "https://localhost:8080/"
        },
        "id": "MUSi_bJKPvh9",
        "outputId": "5120fb2c-cfa2-4a01-a25d-a62713e035e7"
      },
      "execution_count": 22,
      "outputs": [
        {
          "output_type": "execute_result",
          "data": {
            "text/plain": [
              "Index(['creation', 'last_session_creation_time', 'opted_in_to_mailing_list',\n",
              "       'enabled_for_marketing_drip', 'org_id'],\n",
              "      dtype='object')"
            ]
          },
          "metadata": {},
          "execution_count": 22
        }
      ]
    },
    {
      "cell_type": "code",
      "source": [
        "feat_imp = model.feature_importances_\n",
        "sns.set_style(\"darkgrid\")\n",
        "plt.figure(figsize=(12,8))\n",
        "plt.bar(range(len(model.feature_importances_)), model.feature_importances_)\n",
        "xcol = X.columns\n",
        "plt.xlabel('Adoption Predictive Features')\n",
        "plt.ylabel('Feature Importance Score')\n",
        "plt.xticks(range(len(xcol)), xcol.values, rotation=45)\n",
        "plt.show()"
      ],
      "metadata": {
        "id": "Nby3sD3qPxyh"
      },
      "execution_count": null,
      "outputs": []
    },
    {
      "cell_type": "code",
      "source": [
        "y_pred = model.predict(X_test)\n",
        "predictions = [round(value) for value in y_pred]\n",
        "accuracy = accuracy_score(y_test, predictions)\n",
        "print(\"Accuracy: %.2f%%\" % (accuracy * 100.0))"
      ],
      "metadata": {
        "colab": {
          "base_uri": "https://localhost:8080/"
        },
        "id": "vEotnwQgPz7s",
        "outputId": "ce9b78ea-ff24-4f4b-998c-e614fcffa917"
      },
      "execution_count": 23,
      "outputs": [
        {
          "output_type": "stream",
          "name": "stdout",
          "text": [
            "Accuracy: 91.97%\n"
          ]
        }
      ]
    }
  ]
}